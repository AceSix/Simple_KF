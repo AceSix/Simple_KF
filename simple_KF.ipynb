{
 "cells": [
  {
   "cell_type": "code",
   "execution_count": 44,
   "metadata": {},
   "outputs": [],
   "source": [
    "import numpy as np\n",
    "import pandas as pd\n",
    "import matplotlib as mpl\n",
    "import matplotlib.pyplot as plt\n",
    "import seaborn as sns\n",
    "import sklearn\n",
    "from scipy.stats import norm\n",
    "import math\n",
    "from numpy.linalg import inv\n",
    "\n",
    "%matplotlib inline"
   ]
  },
  {
   "cell_type": "code",
   "execution_count": 45,
   "metadata": {},
   "outputs": [
    {
     "name": "stdout",
     "output_type": "stream",
     "text": [
      "15234\n"
     ]
    }
   ],
   "source": [
    "plt.rcParams['figure.figsize'] = 20,16\n",
    "mpl.style.use('ggplot')\n",
    "#data = pd.read_csv('./test1_Standard_Result.csv')\n",
    "data = pd.read_csv('./preliminary.csv')\n",
    "validation = pd.read_csv('./test1_Standard_Data.csv')\n",
    "data_range = data.UTC_odom.size\n",
    "valid_range = validation.UTC.size\n",
    "R = 6378137\n",
    "GPS_y = 319.632/1000\n",
    "imu_y = -53.398/1000\n",
    "\n",
    "overlap = []\n",
    "for n in range(1,data.UTC_odom.size):\n",
    "    if data.UTC_odom[n] == data.UTC_odom[n-1]:\n",
    "        overlap.append(n)\n",
    "data.drop(data.index[overlap],inplace = True)\n",
    "data = data.reset_index(drop = True)\n",
    "data.head()\n",
    "print(data_range)"
   ]
  },
  {
   "cell_type": "code",
   "execution_count": null,
   "metadata": {},
   "outputs": [],
   "source": []
  },
  {
   "cell_type": "code",
   "execution_count": 46,
   "metadata": {},
   "outputs": [
    {
     "data": {
      "text/html": [
       "<div>\n",
       "<style scoped>\n",
       "    .dataframe tbody tr th:only-of-type {\n",
       "        vertical-align: middle;\n",
       "    }\n",
       "\n",
       "    .dataframe tbody tr th {\n",
       "        vertical-align: top;\n",
       "    }\n",
       "\n",
       "    .dataframe thead th {\n",
       "        text-align: right;\n",
       "    }\n",
       "</style>\n",
       "<table border=\"1\" class=\"dataframe\">\n",
       "  <thead>\n",
       "    <tr style=\"text-align: right;\">\n",
       "      <th></th>\n",
       "      <th>UTC_GPS</th>\n",
       "      <th>Latitude</th>\n",
       "      <th>Longitude</th>\n",
       "      <th>altitude</th>\n",
       "      <th>heading</th>\n",
       "      <th>UTC_imu</th>\n",
       "      <th>ang_x</th>\n",
       "      <th>ang_y</th>\n",
       "      <th>ang_z</th>\n",
       "      <th>acc_x</th>\n",
       "      <th>acc_y</th>\n",
       "      <th>acc_z</th>\n",
       "      <th>UTC_odom</th>\n",
       "      <th>vel</th>\n",
       "    </tr>\n",
       "  </thead>\n",
       "  <tbody>\n",
       "    <tr>\n",
       "      <th>0</th>\n",
       "      <td>1.542356e+09</td>\n",
       "      <td>39.791748</td>\n",
       "      <td>116.498636</td>\n",
       "      <td>22.100998</td>\n",
       "      <td>-144.007004</td>\n",
       "      <td>1.542356e+09</td>\n",
       "      <td>0.000351</td>\n",
       "      <td>-0.00028</td>\n",
       "      <td>0.00024</td>\n",
       "      <td>-0.107287</td>\n",
       "      <td>-0.106012</td>\n",
       "      <td>9.828548</td>\n",
       "      <td>1.542356e+09</td>\n",
       "      <td>0.0</td>\n",
       "    </tr>\n",
       "  </tbody>\n",
       "</table>\n",
       "</div>"
      ],
      "text/plain": [
       "        UTC_GPS   Latitude   Longitude   altitude     heading       UTC_imu  \\\n",
       "0  1.542356e+09  39.791748  116.498636  22.100998 -144.007004  1.542356e+09   \n",
       "\n",
       "      ang_x    ang_y    ang_z     acc_x     acc_y     acc_z      UTC_odom  vel  \n",
       "0  0.000351 -0.00028  0.00024 -0.107287 -0.106012  9.828548  1.542356e+09  0.0  "
      ]
     },
     "execution_count": 46,
     "metadata": {},
     "output_type": "execute_result"
    }
   ],
   "source": [
    "def sin(x):\n",
    "    return math.sin(math.radians(x))\n",
    "def cos(x):\n",
    "    return math.cos(math.radians(x))\n",
    "def deg(x):\n",
    "    return x*360/(2*3.14159265357)\n",
    "\n",
    "def align_UTC(validation,data):\n",
    "    ids = []\n",
    "    ids.append(0)\n",
    "    for i in range(1,data.UTC_odom.size):\n",
    "        utc = data.UTC_odom[i]\n",
    "        if utc < validation.UTC[ids[i-1]]:\n",
    "            ids.append(ids[i-1])\n",
    "        else:\n",
    "            for j in range(ids[i-1],validation.UTC.size-1):\n",
    "                if utc>validation.UTC[j] and utc<validation.UTC[j+1]:\n",
    "                    if abs(utc-validation.UTC[j])<abs(utc-validation.UTC[j+1]):\n",
    "                        ids.append(j)\n",
    "                    else:\n",
    "                        ids.append(j+1)\n",
    "                    break\n",
    "    return ids            \n",
    "    \n",
    "def loss(result,data,validation,val_list):\n",
    "    loss = 0\n",
    "    loss_1 = 0\n",
    "    loss_2 = 0\n",
    "    loss_3 = 0\n",
    "    R = 6378137\n",
    "    GPS_y = -53.398/1000\n",
    "    GPS_x = 319.632/1000\n",
    "    for d in range(0,data.UTC_odom.size):    ##regard the odom utc as reference\n",
    "        x_r = result[d][0] - math.degrees(GPS_y/R*cos(result[d][2])) - math.degrees(GPS_x/R*cos(result[d][2]+90))\n",
    "        y_r = result[d][1] - math.degrees(GPS_y/R*sin(result[d][2])) - math.degrees(GPS_x/R*sin(result[d][2]+90))\n",
    "        h_r = result[d][2]\n",
    "        loss_1 = loss_1 + pow(abs(x_r-validation.Longitude[val_list[d]]),2)\n",
    "        loss_2 = loss_2 + pow(abs(y_r-validation.Latitude[val_list[d]]),2)\n",
    "        loss_3 = loss_3 + pow(abs(h_r-validation.Heading[val_list[d]]),2)\n",
    "        print(pow(abs(x_r-validation.Longitude[val_list[d]]),2),pow(abs(y_r-validation.Latitude[val_list[d]]),2),pow(abs(h_r-validation.Heading[val_list[d]]),2))\n",
    "    loss = 0.4*(loss_1/data.UTC_odom.size)**0.5/0.000002+0.4*(loss_2/data.UTC_odom.size)**0.5/0.000002+0.2*(loss_3)**0.5/3\n",
    "    return loss\n",
    "\n",
    "def observe(i,obs):\n",
    "    R = 6378137\n",
    "    y_imu = 825.132/1000\n",
    "    theta = obs.heading[i]\n",
    "    vx = obs.vel[i]*cos(theta)\n",
    "    vy = obs.vel[i]*sin(theta)\n",
    "    w_2 = obs.ang_z[i]*obs.ang_z[i]+obs.ang_x[i]*obs.ang_x[i]\n",
    "    ax = (obs.acc_y[i]+w_2*y_imu)*cos(theta)+obs.acc_x[i]*cos(theta+90)\n",
    "    ay = (obs.acc_y[i]+w_2*y_imu)*sin(theta)+obs.acc_x[i]*sin(theta+90)\n",
    "    w = obs.ang_z[i]\n",
    "    Pose = np.array([obs.Longitude[i],\n",
    "                    obs.Latitude[i],\n",
    "                    theta,\n",
    "                    deg(vx/R),\n",
    "                    deg(vy/R),\n",
    "                    deg(ax/R),\n",
    "                    deg(ay/R),\n",
    "                    w ])\n",
    "    return Pose\n",
    "\n",
    "def A_(t):\n",
    "    A=np.array([[1, 0, 0, t, 0, 0.5*t*t, 0,    0],   #x\n",
    "                [0, 1, 0, 0, t,    0, 0.5*t*t, 0],   #y\n",
    "                [0, 0, 1, 0, 0,    0,    0,    t],   #theta\n",
    "                [0, 0, 0, 1, 0,    t,    0,    0],   #vx\n",
    "                [0, 0, 0, 0, 1,    0,    t,    0],   #vy\n",
    "                [0, 0, 0, 0, 0,    1,    0,    0],   #ax\n",
    "                [0, 0, 0, 0, 0,    0,    1,    0],   #ay\n",
    "                [0, 0, 0, 0, 0,    0,    0,    1]])  #w\n",
    "               # x  y  o  vx vy    ax    ay    z\n",
    "    return A\n",
    "\n",
    "def generate_result(Pose_real,data):\n",
    "    result_t0 = 1542356255.054155\n",
    "    R = 6378137\n",
    "    GPS_y = -53.398/1000\n",
    "    GPS_x = 319.632/1000\n",
    "    length = int(data.UTC_odom[len(Pose_real)-1] - data.UTC_odom[0])*20-10\n",
    "    with open('./Result.csv', 'w', newline='') as csv_file:\n",
    "        csv_writer = csv.writer(csv_file)\n",
    "        for f in range(0,length):\n",
    "            t_re = result_t0+0.05*f\n",
    "            fs = 0\n",
    "            for d in range(fs,len(Pose_real)):\n",
    "                if t_re<data.UTC_odom[d] and t_re>data.UTC_odom[d-1]:\n",
    "                    fs = d\n",
    "                    ratio = (data.UTC_odom[d]-tr)/(data.UTC_odom[d]-data.UTC_odom[d-1])\n",
    "                    x_r = Pose_real[d-1][0]*ratio+Pose_real[d][0]*(1-ratio) - math.degrees(GPS_y/R*cos(Pose_real[d][2])) - math.degrees(GPS_x/R*cos(Pose_real[d][2]+90))\n",
    "                    y_r = Pose_real[d-1][1]*ratio+Pose_real[d][1]*(1-ratio) - math.degrees(GPS_y/R*sin(Pose_real[d][2])) - math.degrees(GPS_x/R*sin(Pose_real[d][2]+90))\n",
    "                    h_r = Pose_real[d-1][2]*ratio+Pose_real[d][2]*(1-ratio)\n",
    "                    datain = (t_re,x_r,y_r,h_r)\n",
    "                    csv_writer.writerow(datain)\n",
    "                    break\n",
    "        \n",
    "    \n",
    "#validation.head()\n",
    "data.head()\n",
    "#data.info()\n",
    "#validation.info()"
   ]
  },
  {
   "cell_type": "code",
   "execution_count": 47,
   "metadata": {},
   "outputs": [
    {
     "ename": "KeyError",
     "evalue": "1",
     "output_type": "error",
     "traceback": [
      "\u001b[1;31m---------------------------------------------------------------------------\u001b[0m",
      "\u001b[1;31mKeyError\u001b[0m                                  Traceback (most recent call last)",
      "\u001b[1;32m<ipython-input-47-68560bf096e8>\u001b[0m in \u001b[0;36m<module>\u001b[1;34m()\u001b[0m\n\u001b[0;32m      9\u001b[0m \u001b[1;33m\u001b[0m\u001b[0m\n\u001b[0;32m     10\u001b[0m \u001b[1;32mfor\u001b[0m \u001b[0mi\u001b[0m \u001b[1;32min\u001b[0m \u001b[0mrange\u001b[0m\u001b[1;33m(\u001b[0m\u001b[1;36m1\u001b[0m\u001b[1;33m,\u001b[0m\u001b[0mdata_range\u001b[0m\u001b[1;33m)\u001b[0m\u001b[1;33m:\u001b[0m\u001b[1;33m\u001b[0m\u001b[0m\n\u001b[1;32m---> 11\u001b[1;33m     \u001b[0mt\u001b[0m \u001b[1;33m=\u001b[0m \u001b[0mdata\u001b[0m\u001b[1;33m.\u001b[0m\u001b[0mUTC_odom\u001b[0m\u001b[1;33m[\u001b[0m\u001b[0mi\u001b[0m\u001b[1;33m]\u001b[0m \u001b[1;33m-\u001b[0m \u001b[0mdata\u001b[0m\u001b[1;33m.\u001b[0m\u001b[0mUTC_odom\u001b[0m\u001b[1;33m[\u001b[0m\u001b[0mi\u001b[0m\u001b[1;33m-\u001b[0m\u001b[1;36m1\u001b[0m\u001b[1;33m]\u001b[0m\u001b[1;33m\u001b[0m\u001b[0m\n\u001b[0m\u001b[0;32m     12\u001b[0m     \u001b[0mA\u001b[0m \u001b[1;33m=\u001b[0m \u001b[0mA_\u001b[0m\u001b[1;33m(\u001b[0m\u001b[0mt\u001b[0m\u001b[1;33m)\u001b[0m\u001b[1;33m\u001b[0m\u001b[0m\n\u001b[0;32m     13\u001b[0m     \u001b[0mP_pre\u001b[0m\u001b[1;33m=\u001b[0m\u001b[0mnp\u001b[0m\u001b[1;33m.\u001b[0m\u001b[0mdot\u001b[0m\u001b[1;33m(\u001b[0m\u001b[0mnp\u001b[0m\u001b[1;33m.\u001b[0m\u001b[0mdot\u001b[0m\u001b[1;33m(\u001b[0m\u001b[0mA\u001b[0m\u001b[1;33m,\u001b[0m\u001b[0mP\u001b[0m\u001b[1;33m)\u001b[0m\u001b[1;33m,\u001b[0m\u001b[0mA\u001b[0m\u001b[1;33m.\u001b[0m\u001b[0mT\u001b[0m\u001b[1;33m)\u001b[0m\u001b[1;33m+\u001b[0m\u001b[0mQ\u001b[0m\u001b[1;33m\u001b[0m\u001b[0m\n",
      "\u001b[1;32mD:\\tf\\envs\\tfgpu\\lib\\site-packages\\pandas\\core\\series.py\u001b[0m in \u001b[0;36m__getitem__\u001b[1;34m(self, key)\u001b[0m\n\u001b[0;32m    764\u001b[0m         \u001b[0mkey\u001b[0m \u001b[1;33m=\u001b[0m \u001b[0mcom\u001b[0m\u001b[1;33m.\u001b[0m\u001b[0m_apply_if_callable\u001b[0m\u001b[1;33m(\u001b[0m\u001b[0mkey\u001b[0m\u001b[1;33m,\u001b[0m \u001b[0mself\u001b[0m\u001b[1;33m)\u001b[0m\u001b[1;33m\u001b[0m\u001b[0m\n\u001b[0;32m    765\u001b[0m         \u001b[1;32mtry\u001b[0m\u001b[1;33m:\u001b[0m\u001b[1;33m\u001b[0m\u001b[0m\n\u001b[1;32m--> 766\u001b[1;33m             \u001b[0mresult\u001b[0m \u001b[1;33m=\u001b[0m \u001b[0mself\u001b[0m\u001b[1;33m.\u001b[0m\u001b[0mindex\u001b[0m\u001b[1;33m.\u001b[0m\u001b[0mget_value\u001b[0m\u001b[1;33m(\u001b[0m\u001b[0mself\u001b[0m\u001b[1;33m,\u001b[0m \u001b[0mkey\u001b[0m\u001b[1;33m)\u001b[0m\u001b[1;33m\u001b[0m\u001b[0m\n\u001b[0m\u001b[0;32m    767\u001b[0m \u001b[1;33m\u001b[0m\u001b[0m\n\u001b[0;32m    768\u001b[0m             \u001b[1;32mif\u001b[0m \u001b[1;32mnot\u001b[0m \u001b[0mis_scalar\u001b[0m\u001b[1;33m(\u001b[0m\u001b[0mresult\u001b[0m\u001b[1;33m)\u001b[0m\u001b[1;33m:\u001b[0m\u001b[1;33m\u001b[0m\u001b[0m\n",
      "\u001b[1;32mD:\\tf\\envs\\tfgpu\\lib\\site-packages\\pandas\\core\\indexes\\base.py\u001b[0m in \u001b[0;36mget_value\u001b[1;34m(self, series, key)\u001b[0m\n\u001b[0;32m   3101\u001b[0m         \u001b[1;32mtry\u001b[0m\u001b[1;33m:\u001b[0m\u001b[1;33m\u001b[0m\u001b[0m\n\u001b[0;32m   3102\u001b[0m             return self._engine.get_value(s, k,\n\u001b[1;32m-> 3103\u001b[1;33m                                           tz=getattr(series.dtype, 'tz', None))\n\u001b[0m\u001b[0;32m   3104\u001b[0m         \u001b[1;32mexcept\u001b[0m \u001b[0mKeyError\u001b[0m \u001b[1;32mas\u001b[0m \u001b[0me1\u001b[0m\u001b[1;33m:\u001b[0m\u001b[1;33m\u001b[0m\u001b[0m\n\u001b[0;32m   3105\u001b[0m             \u001b[1;32mif\u001b[0m \u001b[0mlen\u001b[0m\u001b[1;33m(\u001b[0m\u001b[0mself\u001b[0m\u001b[1;33m)\u001b[0m \u001b[1;33m>\u001b[0m \u001b[1;36m0\u001b[0m \u001b[1;32mand\u001b[0m \u001b[0mself\u001b[0m\u001b[1;33m.\u001b[0m\u001b[0minferred_type\u001b[0m \u001b[1;32min\u001b[0m \u001b[1;33m[\u001b[0m\u001b[1;34m'integer'\u001b[0m\u001b[1;33m,\u001b[0m \u001b[1;34m'boolean'\u001b[0m\u001b[1;33m]\u001b[0m\u001b[1;33m:\u001b[0m\u001b[1;33m\u001b[0m\u001b[0m\n",
      "\u001b[1;32mpandas\\_libs\\index.pyx\u001b[0m in \u001b[0;36mpandas._libs.index.IndexEngine.get_value\u001b[1;34m()\u001b[0m\n",
      "\u001b[1;32mpandas\\_libs\\index.pyx\u001b[0m in \u001b[0;36mpandas._libs.index.IndexEngine.get_value\u001b[1;34m()\u001b[0m\n",
      "\u001b[1;32mpandas\\_libs\\index.pyx\u001b[0m in \u001b[0;36mpandas._libs.index.IndexEngine.get_loc\u001b[1;34m()\u001b[0m\n",
      "\u001b[1;32mpandas\\_libs\\hashtable_class_helper.pxi\u001b[0m in \u001b[0;36mpandas._libs.hashtable.Int64HashTable.get_item\u001b[1;34m()\u001b[0m\n",
      "\u001b[1;32mpandas\\_libs\\hashtable_class_helper.pxi\u001b[0m in \u001b[0;36mpandas._libs.hashtable.Int64HashTable.get_item\u001b[1;34m()\u001b[0m\n",
      "\u001b[1;31mKeyError\u001b[0m: 1"
     ]
    }
   ],
   "source": [
    "t=0\n",
    "P_pre=np.eye(8)\n",
    "P=np.eye(8)\n",
    "Q=0.0000001*np.eye(8)\n",
    "R=0.0000001*np.eye(8)\n",
    "Pose_pre=np.zeros(8)\n",
    "Pose_back = observe(0,data)   #trust the first observe\n",
    "Pose_real=[Pose_back]\n",
    "\n",
    "for i in range(1,data_range):\n",
    "    t = data.UTC_odom[i] - data.UTC_odom[i-1]\n",
    "    A = A_(t)\n",
    "    P_pre=np.dot(np.dot(A,P),A.T)+Q\n",
    "    Pose_pre = np.dot(A,Pose_back)\n",
    "    \n",
    "    K=np.dot(P_pre,inv(P_pre+R))\n",
    "    obser = observe(i,data)\n",
    "    if data.UTC_GPS[i]==data.UTC_GPS[i-1]:\n",
    "        obser[0] = Pose_pre[0]\n",
    "        obser[1] = Pose_pre[1]\n",
    "        obser[2] = Pose_pre[2]\n",
    "    Pose_back=Pose_pre+np.dot(K,obser-Pose_pre)\n",
    "    P=np.dot(np.eye(8)-K,P_pre)\n",
    "    Pose_real.append(Pose_back)\n",
    "# val_list = align_UTC(validation,data)\n",
    "# print(loss(Pose_real,data,validation,val_list))\n"
   ]
  },
  {
   "cell_type": "code",
   "execution_count": 41,
   "metadata": {},
   "outputs": [
    {
     "name": "stdout",
     "output_type": "stream",
     "text": [
      "[array([ 1.16498636e+02,  3.97917481e+01, -1.44007004e+02, -0.00000000e+00,\n",
      "       -0.00000000e+00,  2.04114564e-07,  1.33945162e-06,  2.39800000e-04])]\n"
     ]
    }
   ],
   "source": [
    "print(Pose_real)"
   ]
  },
  {
   "cell_type": "code",
   "execution_count": 39,
   "metadata": {},
   "outputs": [
    {
     "name": "stdout",
     "output_type": "stream",
     "text": [
      "-10\n"
     ]
    }
   ],
   "source": [
    "import csv\n",
    "import os\n",
    "print( int(data.UTC_odom[len(Pose_real)-1] - data.UTC_odom[0])*20-10)\n",
    "generate_result(Pose_real,data)"
   ]
  },
  {
   "cell_type": "code",
   "execution_count": null,
   "metadata": {},
   "outputs": [],
   "source": []
  }
 ],
 "metadata": {
  "kernelspec": {
   "display_name": "Python 3",
   "language": "python",
   "name": "python3"
  },
  "language_info": {
   "codemirror_mode": {
    "name": "ipython",
    "version": 3
   },
   "file_extension": ".py",
   "mimetype": "text/x-python",
   "name": "python",
   "nbconvert_exporter": "python",
   "pygments_lexer": "ipython3",
   "version": "3.5.5"
  }
 },
 "nbformat": 4,
 "nbformat_minor": 2
}
